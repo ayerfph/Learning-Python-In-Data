{
 "cells": [
  {
   "cell_type": "markdown",
   "id": "dd7a806d",
   "metadata": {},
   "source": [
    "### Learning Python Fundamentals"
   ]
  },
  {
   "cell_type": "markdown",
   "id": "652cb53e",
   "metadata": {},
   "source": [
    "**Checking Equality**"
   ]
  },
  {
   "cell_type": "code",
   "execution_count": null,
   "id": "6280e5eb",
   "metadata": {},
   "outputs": [],
   "source": [
    "# Equal\n",
    "3 == 3\n",
    "\n",
    "# Not Equal\n",
    "2 != 3\n",
    "\n",
    "# Less than and Equal\n",
    "2 <= 3\n",
    "\n",
    "# Greater than and Equal\n",
    "3 >= 2\n",
    "\n",
    "# Their result based on boolean (True or False)"
   ]
  },
  {
   "cell_type": "markdown",
   "id": "a75ab5ee",
   "metadata": {},
   "source": [
    "**Other Comparison**"
   ]
  },
  {
   "cell_type": "code",
   "execution_count": 6,
   "id": "b35585d3",
   "metadata": {},
   "outputs": [
    {
     "data": {
      "text/plain": [
       "True"
      ]
     },
     "execution_count": 6,
     "metadata": {},
     "output_type": "execute_result"
    }
   ],
   "source": [
    "\"James\" > \"Brian\" # Strings evaluated in alphabetical order\n",
    "\n",
    "\"Brian\" < \"James\" "
   ]
  },
  {
   "cell_type": "markdown",
   "id": "48bf43ac",
   "metadata": {},
   "source": [
    "**Conditional Statements**"
   ]
  },
  {
   "cell_type": "markdown",
   "id": "281371d8",
   "metadata": {},
   "source": [
    "1. For Loop"
   ]
  },
  {
   "cell_type": "code",
   "execution_count": null,
   "id": "2788659b",
   "metadata": {},
   "outputs": [
    {
     "name": "stdout",
     "output_type": "stream",
     "text": [
      "True\n"
     ]
    }
   ],
   "source": [
    "# If statement\n",
    "a = 10\n",
    "b = 5\n",
    "\n",
    "if a > 5:\n",
    "    print(\"True\")"
   ]
  },
  {
   "cell_type": "code",
   "execution_count": null,
   "id": "26ab5360",
   "metadata": {},
   "outputs": [
    {
     "name": "stdout",
     "output_type": "stream",
     "text": [
      "Fact\n"
     ]
    }
   ],
   "source": [
    "# With elif\n",
    "a = 10\n",
    "b = 5\n",
    "c = 0\n",
    "\n",
    "if a < b:\n",
    "    print(\"True\")\n",
    "elif a > c: # If the first condition is false, it will fall to the elif statement.\n",
    "    print(\"Fact\")"
   ]
  },
  {
   "cell_type": "code",
   "execution_count": null,
   "id": "5d913362",
   "metadata": {},
   "outputs": [
    {
     "name": "stdout",
     "output_type": "stream",
     "text": [
      "False\n"
     ]
    }
   ],
   "source": [
    "# With else\n",
    "a = 10\n",
    "b = 5\n",
    "c = 0\n",
    "\n",
    "if a < b:\n",
    "    print(\"True\")\n",
    "elif a == c: \n",
    "    print(\"Fact\")\n",
    "else:\n",
    "    print(\"False\") # If all the statement is not True, it will fall in else statement"
   ]
  },
  {
   "cell_type": "markdown",
   "id": "7e5eaac4",
   "metadata": {},
   "source": [
    "**Loops**"
   ]
  },
  {
   "cell_type": "code",
   "execution_count": null,
   "id": "6b3ebb66",
   "metadata": {},
   "outputs": [],
   "source": [
    "# Individual comparisons\n",
    "\n",
    "a = [9.13, 8.83, 1,11, 5.55]\n",
    "\n",
    "a[0] > 10 # False\n",
    "\n",
    "a[0] >= 5 and a[0] <= 10 # True"
   ]
  },
  {
   "cell_type": "code",
   "execution_count": null,
   "id": "ef0bc18d",
   "metadata": {},
   "outputs": [],
   "source": [
    "# For loop Syntax\n",
    "\n",
    "for value in sequence:\n",
    "    action"
   ]
  },
  {
   "cell_type": "code",
   "execution_count": null,
   "id": "b4f07826",
   "metadata": {},
   "outputs": [
    {
     "name": "stdout",
     "output_type": "stream",
     "text": [
      "[9.13, 8.83, 1.11, 5.55]\n",
      "[9.13, 8.83, 1.11, 5.55]\n",
      "[9.13, 8.83, 1.11, 5.55]\n",
      "[9.13, 8.83, 1.11, 5.55]\n"
     ]
    }
   ],
   "source": [
    "# For loop\n",
    "\n",
    "a = [9.13, 8.83, 1.11, 5.55]\n",
    "\n",
    "for result in a:\n",
    "    print(a)"
   ]
  },
  {
   "cell_type": "code",
   "execution_count": null,
   "id": "0996ea71",
   "metadata": {},
   "outputs": [
    {
     "name": "stdout",
     "output_type": "stream",
     "text": [
      "More than 10\n",
      "8.83\n",
      "Less than 5\n",
      "5.55\n"
     ]
    }
   ],
   "source": [
    "# For loop with conditional statement\n",
    "a = [10, 8.83, 1.11, 5.55]\n",
    "\n",
    "for result in a:\n",
    "    if result >= 10:\n",
    "        print(\"More than 10\")\n",
    "    elif result < 5:\n",
    "        print(\"Less than 5\")\n",
    "    else:\n",
    "        print(result)"
   ]
  },
  {
   "cell_type": "code",
   "execution_count": 26,
   "id": "6ab9a40e",
   "metadata": {},
   "outputs": [
    {
     "name": "stdout",
     "output_type": "stream",
     "text": [
      "L\n",
      "e\n",
      "c\n",
      "l\n",
      "e\n",
      "r\n",
      "c\n"
     ]
    }
   ],
   "source": [
    "# for loop through strings\n",
    "name = \"Leclerc\"\n",
    "\n",
    "for char in name:\n",
    "    print(char)"
   ]
  },
  {
   "cell_type": "code",
   "execution_count": null,
   "id": "8c9b4e04",
   "metadata": {},
   "outputs": [
    {
     "name": "stdout",
     "output_type": "stream",
     "text": [
      "ASG 145\n",
      "OEN 123\n",
      "EIT 882\n",
      "LAW 259\n",
      "ALS 635\n"
     ]
    }
   ],
   "source": [
    "# For loop through dictionaries\n",
    "\n",
    "plate = {\n",
    "    \"ASG\":145, \"OEN\":123, \"EIT\":882, \"LAW\":259, \"ALS\":635,\n",
    "} # key:val\n",
    "\n",
    "for key, val in plate.items():\n",
    "    print(key, val)"
   ]
  },
  {
   "cell_type": "code",
   "execution_count": 33,
   "id": "701772a7",
   "metadata": {},
   "outputs": [
    {
     "name": "stdout",
     "output_type": "stream",
     "text": [
      "ASG\n",
      "OEN\n",
      "EIT\n",
      "LAW\n",
      "ALS\n"
     ]
    }
   ],
   "source": [
    "# For loop through dictionaries\n",
    "\n",
    "plate = {\n",
    "    \"ASG\":145, \"OEN\":123, \"EIT\":882, \"LAW\":259, \"ALS\":635,\n",
    "} # key:val\n",
    "\n",
    "for key, val in plate.items():\n",
    "    print(key)"
   ]
  },
  {
   "cell_type": "code",
   "execution_count": 35,
   "id": "003ed3f2",
   "metadata": {},
   "outputs": [
    {
     "name": "stdout",
     "output_type": "stream",
     "text": [
      "145\n",
      "123\n",
      "882\n",
      "259\n",
      "635\n"
     ]
    }
   ],
   "source": [
    "# For loop through dictionaries\n",
    "\n",
    "plate = {\n",
    "    \"ASG\":145, \"OEN\":123, \"EIT\":882, \"LAW\":259, \"ALS\":635,\n",
    "} # key:val\n",
    "\n",
    "for key, val in plate.items():\n",
    "    print(val)"
   ]
  },
  {
   "cell_type": "code",
   "execution_count": null,
   "id": "2e7f8a52",
   "metadata": {},
   "outputs": [],
   "source": [
    "# Range Syntax\n",
    "range(start, end + 1) # start = inclusive | end = not inclusive, must have + 1"
   ]
  },
  {
   "cell_type": "code",
   "execution_count": 36,
   "id": "398dca30",
   "metadata": {},
   "outputs": [
    {
     "name": "stdout",
     "output_type": "stream",
     "text": [
      "1\n",
      "2\n",
      "3\n",
      "4\n",
      "5\n"
     ]
    }
   ],
   "source": [
    "for i in range(1,6):\n",
    "    print(i)"
   ]
  },
  {
   "cell_type": "markdown",
   "id": "b8b68ba3",
   "metadata": {},
   "source": [
    "2. While Loops"
   ]
  },
  {
   "cell_type": "code",
   "execution_count": null,
   "id": "818f6e92",
   "metadata": {},
   "outputs": [
    {
     "name": "stdout",
     "output_type": "stream",
     "text": [
      "9\n",
      "8\n",
      "7\n",
      "6\n",
      "5\n",
      "4\n",
      "3\n",
      "2\n",
      "1\n",
      "0\n"
     ]
    }
   ],
   "source": [
    "a = 10\n",
    "b = 0\n",
    "\n",
    "# while b is less than a\n",
    "while b < a:\n",
    "    b += 1 # b will increase by 1\n",
    "    print(a - b) # printing the a - b"
   ]
  },
  {
   "cell_type": "code",
   "execution_count": 39,
   "id": "43e8c991",
   "metadata": {},
   "outputs": [
    {
     "name": "stdout",
     "output_type": "stream",
     "text": [
      "10\n"
     ]
    }
   ],
   "source": [
    "# Breaking a loop\n",
    "a = 10\n",
    "b = 0\n",
    "\n",
    "# while b is less than a\n",
    "while b < a:\n",
    "    print(a - b) # printing the a - b\n",
    "    break # Using break for end the loop"
   ]
  },
  {
   "cell_type": "code",
   "execution_count": 47,
   "id": "cf983d9f",
   "metadata": {},
   "outputs": [
    {
     "name": "stdout",
     "output_type": "stream",
     "text": [
      "70 percent load\n",
      "70 percent load\n",
      "70 percent load\n",
      "Low percent load\n",
      "Low percent load\n",
      "Low percent load\n",
      "Low percent load\n",
      "Need to load\n",
      "Need to load\n",
      "No Stock\n"
     ]
    }
   ],
   "source": [
    "# While loop with conditional statement\n",
    "a = 10\n",
    "b = 0\n",
    "\n",
    "while b < a:\n",
    "    b += 1\n",
    "    c = a - b\n",
    "\n",
    "    if c >= 7:\n",
    "        print(\"70 percent load\")\n",
    "    elif c >= 3:\n",
    "        print(\"Low percent load\")\n",
    "    elif c != 0:\n",
    "        print(\"Need to load\")\n",
    "    else:\n",
    "        print(\"No Stock\")"
   ]
  },
  {
   "cell_type": "markdown",
   "id": "4085ce08",
   "metadata": {},
   "source": [
    "3. Building a workflow"
   ]
  },
  {
   "cell_type": "code",
   "execution_count": null,
   "id": "0475baf1",
   "metadata": {},
   "outputs": [],
   "source": [
    "# Complex workflow\n",
    "\n",
    "# Loops through data structure\n",
    "\n",
    "# for  |  while\n",
    "\n",
    "# Evaluate multiple conditions\n",
    "\n",
    "# if, elif, else, >, >=, <, <=, ==, !=\n",
    "\n",
    "# Update variables\n",
    "\n",
    "# +=\n",
    "\n",
    "# Return outputs\n",
    "\n",
    "# print()"
   ]
  },
  {
   "cell_type": "code",
   "execution_count": 48,
   "id": "4c293ee0",
   "metadata": {},
   "outputs": [
    {
     "name": "stdout",
     "output_type": "stream",
     "text": [
      "True\n"
     ]
    }
   ],
   "source": [
    "# Using in keyword : check if a value is in a variable / data structure\n",
    "\n",
    "plate = {\n",
    "    \"ASG\":145, \"OEN\":123, \"EIT\":882, \"LAW\":259, \"ALS\":635,\n",
    "} # key:val\n",
    "\n",
    "if \"ASG\" in plate.keys():\n",
    "    print(True)\n",
    "else:\n",
    "    print(False)"
   ]
  },
  {
   "cell_type": "code",
   "execution_count": 49,
   "id": "a965025a",
   "metadata": {},
   "outputs": [
    {
     "name": "stdout",
     "output_type": "stream",
     "text": [
      "True\n"
     ]
    }
   ],
   "source": [
    "# Using not keyword : check if a condition is not met\n",
    "\n",
    "plate = {\n",
    "    \"ASG\":145, \"OEN\":123, \"EIT\":882, \"LAW\":259, \"ALS\":635,\n",
    "} # key:val\n",
    "\n",
    "if \"SSS\" not in plate.keys():\n",
    "    print(True)\n",
    "else:\n",
    "    print(False)"
   ]
  },
  {
   "cell_type": "code",
   "execution_count": 51,
   "id": "4c483432",
   "metadata": {},
   "outputs": [
    {
     "name": "stdout",
     "output_type": "stream",
     "text": [
      "True\n"
     ]
    }
   ],
   "source": [
    "# Using and keyword : check if multiple condition are met\n",
    "\n",
    "plate = {\n",
    "    \"ASG\":145, \"OEN\":123, \"EIT\":882, \"LAW\":259, \"ALS\":635,\n",
    "} # key:val\n",
    "\n",
    "if \"OEN\" in plate.keys() and min(plate.values()) > 5:\n",
    "    print(True)\n",
    "else:\n",
    "    print(False)\n"
   ]
  },
  {
   "cell_type": "code",
   "execution_count": 52,
   "id": "1177a20a",
   "metadata": {},
   "outputs": [
    {
     "name": "stdout",
     "output_type": "stream",
     "text": [
      "True\n"
     ]
    }
   ],
   "source": [
    "# Using or keyword : check if one or more condition is met\n",
    "\n",
    "plate = {\n",
    "    \"ASG\":145, \"OEN\":123, \"EIT\":882, \"LAW\":259, \"ALS\":635,\n",
    "} # key:val\n",
    "\n",
    "if \"ALS\" in plate.keys() or min(plate.values()) < 5:\n",
    "    print(True)\n",
    "else: \n",
    "    print(False)\n"
   ]
  },
  {
   "cell_type": "code",
   "execution_count": null,
   "id": "086b25f7",
   "metadata": {},
   "outputs": [
    {
     "name": "stdout",
     "output_type": "stream",
     "text": [
      "['ASG', 'OEN', 'EIT', 'LAW', 'ALS']\n"
     ]
    }
   ],
   "source": [
    "# Using append keyword : Store information that meets specific criteria in a list\n",
    "plate = {\n",
    "    \"ASG\":145, \"OEN\":123, \"EIT\":882, \"LAW\":259, \"ALS\":635,\n",
    "} # key:val\n",
    "\n",
    "# Empty list\n",
    "a = []\n",
    "\n",
    "for key, val in plate.items():\n",
    "    if val >= 20:\n",
    "        a.append(key)\n",
    "print(a)"
   ]
  }
 ],
 "metadata": {
  "kernelspec": {
   "display_name": "learnPandas",
   "language": "python",
   "name": "python3"
  },
  "language_info": {
   "codemirror_mode": {
    "name": "ipython",
    "version": 3
   },
   "file_extension": ".py",
   "mimetype": "text/x-python",
   "name": "python",
   "nbconvert_exporter": "python",
   "pygments_lexer": "ipython3",
   "version": "3.13.5"
  }
 },
 "nbformat": 4,
 "nbformat_minor": 5
}

{
 "cells": [
  {
   "cell_type": "markdown",
   "id": "9ce9c406",
   "metadata": {},
   "source": [
    "### Joining Data With Pandas"
   ]
  },
  {
   "cell_type": "markdown",
   "id": "36ffc494",
   "metadata": {},
   "source": [
    "#### Data Merging Basics"
   ]
  },
  {
   "cell_type": "code",
   "execution_count": null,
   "id": "776f066f",
   "metadata": {},
   "outputs": [],
   "source": [
    "# Import csv\n",
    "df = pd.read_csv('table.csv')"
   ]
  },
  {
   "cell_type": "markdown",
   "id": "990267b2",
   "metadata": {},
   "source": [
    "1. **Joining Data**"
   ]
  },
  {
   "cell_type": "code",
   "execution_count": null,
   "id": "24053527",
   "metadata": {},
   "outputs": [],
   "source": [
    "# Inner Join\n",
    "\n",
    "# Inner join two DataFrames on a column named 'column_name'\n",
    "result = df1.merge(df2, on='column_name', how='inner')\n",
    "\n",
    "print(result.head(4))"
   ]
  },
  {
   "cell_type": "code",
   "execution_count": null,
   "id": "4c69a032",
   "metadata": {},
   "outputs": [],
   "source": [
    "# Show the shape of table\n",
    "print(result.shape)"
   ]
  },
  {
   "cell_type": "code",
   "execution_count": null,
   "id": "262b915d",
   "metadata": {},
   "outputs": [],
   "source": [
    "# Show columns\n",
    "\n",
    "print(result.columns)"
   ]
  },
  {
   "cell_type": "code",
   "execution_count": null,
   "id": "2207f4ac",
   "metadata": {},
   "outputs": [],
   "source": [
    "# Suffixes\n",
    "result = df1.merge(df2, on='column_name', how='inner', suffixes=('_left', '_right'))\n",
    "print(result.head())\n",
    "print(result.shape)\n"
   ]
  },
  {
   "cell_type": "markdown",
   "id": "7ebe7a31",
   "metadata": {},
   "source": [
    "2. **One to Many Relationships**"
   ]
  },
  {
   "cell_type": "code",
   "execution_count": null,
   "id": "739a5152",
   "metadata": {},
   "outputs": [],
   "source": [
    "# One-to-many join: df1 has unique 'id', df2 has multiple rows per 'id'\n",
    "result = df1.merge(df2, on='id', suffixes=('_left', '_right'),how='inner')"
   ]
  },
  {
   "cell_type": "code",
   "execution_count": null,
   "id": "c1dc85ed",
   "metadata": {},
   "outputs": [],
   "source": [
    "# Syntax for merging two DataFrames in pandas\n",
    "merged_df = df1.merge(df2, on='column_name', how='inner')"
   ]
  },
  {
   "cell_type": "code",
   "execution_count": null,
   "id": "22dff028",
   "metadata": {},
   "outputs": [],
   "source": [
    "# Merge two DataFrames on multiple columns\n",
    "merged_df = df1.merge(df2, on=['column1', 'column2'])"
   ]
  },
  {
   "cell_type": "code",
   "execution_count": null,
   "id": "204354ad",
   "metadata": {},
   "outputs": [],
   "source": [
    "merged_df = df1.merge(df2, on=['column1', 'column2']) \\\n",
    "               .merge(df3, on='column3', suffixes=('_df2', '_df3'))"
   ]
  },
  {
   "cell_type": "code",
   "execution_count": null,
   "id": "0060b172",
   "metadata": {},
   "outputs": [],
   "source": [
    "# Merge up to 3 table\n",
    "three_table = df1.merge(df2, on='col') \\\n",
    "                 .merge(df3, on='col')"
   ]
  },
  {
   "cell_type": "code",
   "execution_count": null,
   "id": "c70792b7",
   "metadata": {},
   "outputs": [],
   "source": [
    "# Merge up to 4 table\n",
    "four_table = df1.merge(df2, on='col') \\\n",
    "                 .merge(df3, on='col') \\\n",
    "                 .merge(df4, on='col')"
   ]
  }
 ],
 "metadata": {
  "kernelspec": {
   "display_name": "learnPandas",
   "language": "python",
   "name": "python3"
  },
  "language_info": {
   "name": "python",
   "version": "3.13.5"
  }
 },
 "nbformat": 4,
 "nbformat_minor": 5
}

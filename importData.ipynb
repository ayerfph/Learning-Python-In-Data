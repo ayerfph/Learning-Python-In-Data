{
 "cells": [
  {
   "cell_type": "markdown",
   "id": "e46a496d",
   "metadata": {},
   "source": [
    "### Importing Data with Python"
   ]
  },
  {
   "cell_type": "markdown",
   "id": "9188acc4",
   "metadata": {},
   "source": [
    "1. Read a text file"
   ]
  },
  {
   "cell_type": "code",
   "execution_count": null,
   "id": "c315848e",
   "metadata": {},
   "outputs": [],
   "source": [
    "# Import the file to python\n",
    "filename = 'file.txt'\n",
    "\n",
    "# Read the file\n",
    "file = open(filename, mode='r') # r means read\n",
    "\n",
    "# View the file\n",
    "text = file.read()\n",
    "\n",
    "# Close the file\n",
    "file.close()"
   ]
  },
  {
   "cell_type": "markdown",
   "id": "aaf63716",
   "metadata": {},
   "source": [
    "Using with statement"
   ]
  },
  {
   "cell_type": "code",
   "execution_count": null,
   "id": "30eddbce",
   "metadata": {},
   "outputs": [],
   "source": [
    "# Using context manager with\n",
    "with open('file.txt', 'r') as file:\n",
    "    print(file.read())"
   ]
  },
  {
   "cell_type": "markdown",
   "id": "5ecf7723",
   "metadata": {},
   "source": [
    "Using readline()"
   ]
  },
  {
   "cell_type": "code",
   "execution_count": null,
   "id": "e0cc50e6",
   "metadata": {},
   "outputs": [],
   "source": [
    "with open('file.txt') as file:\n",
    "    print(file.readline())\n",
    "    print(file.readline())\n",
    "    print(file.readline())\n",
    "\n",
    "# used to read all lines from a file and return them as a list of strings."
   ]
  },
  {
   "cell_type": "markdown",
   "id": "a40455d2",
   "metadata": {},
   "source": [
    "Flat files"
   ]
  },
  {
   "cell_type": "code",
   "execution_count": null,
   "id": "46fdab5e",
   "metadata": {},
   "outputs": [],
   "source": [
    "# Text files containing records (table data)\n",
    "\n",
    "# Import package\n",
    "import numpy as np\n",
    "\n",
    "# Load the file\n",
    "filename = 'file.txt'\n",
    "data = np.loadtxt(filename, delimiter=',')\n",
    "\n",
    "# show the data\n",
    "data"
   ]
  },
  {
   "cell_type": "code",
   "execution_count": null,
   "id": "173de09f",
   "metadata": {},
   "outputs": [],
   "source": [
    "# Text files containing records (table data)\n",
    "\n",
    "# Import package\n",
    "import numpy as np\n",
    "\n",
    "# Load the file\n",
    "filename = 'file.txt'\n",
    "data = np.loadtxt(filename, delimiter=',', skiprows=1) # skiprows used for skipping 1 row of the data\n",
    "\n",
    "# show the data\n",
    "data"
   ]
  },
  {
   "cell_type": "code",
   "execution_count": null,
   "id": "5681372c",
   "metadata": {},
   "outputs": [],
   "source": [
    "# Text files containing records (table data)\n",
    "\n",
    "# Import package\n",
    "import numpy as np\n",
    "\n",
    "# Load the file\n",
    "filename = 'file.txt'\n",
    "data = np.loadtxt(filename, delimiter=',', usecols=[0, 2]) #usecols=[start, end]\n",
    "\n",
    "# show the data\n",
    "data"
   ]
  },
  {
   "cell_type": "code",
   "execution_count": null,
   "id": "1fae832f",
   "metadata": {},
   "outputs": [],
   "source": [
    "# Customize data import\n",
    "\n",
    "data = np.loadtxt(filename, dtype=str)"
   ]
  },
  {
   "cell_type": "markdown",
   "id": "7148f06d",
   "metadata": {},
   "source": [
    "Pickled files"
   ]
  },
  {
   "cell_type": "code",
   "execution_count": null,
   "id": "912678c8",
   "metadata": {},
   "outputs": [],
   "source": [
    "# Import library\n",
    "import pickle\n",
    "\n",
    "# Import data from pkl\n",
    "with open('file.pkl', 'rb') as file:\n",
    "    data = pickle.load(file)\n",
    "\n",
    "# Print data\n",
    "print(data)"
   ]
  },
  {
   "cell_type": "markdown",
   "id": "afc22ab1",
   "metadata": {},
   "source": [
    "Importing Excel spreadsheets"
   ]
  },
  {
   "cell_type": "code",
   "execution_count": null,
   "id": "d0bc8a23",
   "metadata": {},
   "outputs": [],
   "source": [
    "# Import library\n",
    "import pandas as pd\n",
    "\n",
    "# Import data from excel\n",
    "file = 'file.xlsx'\n",
    "data = pd.ExcelFile(file)\n",
    "print(data.sheet_names)\n",
    "\n",
    "# Using parse\n",
    "df1 = data.parse('sheet-name') # sheet name, as a string\n",
    "df2 = data.parse(0) # sheet index, as a float"
   ]
  },
  {
   "cell_type": "markdown",
   "id": "5bfd3b69",
   "metadata": {},
   "source": [
    "Importing SAS/Stata file"
   ]
  },
  {
   "cell_type": "code",
   "execution_count": null,
   "id": "eefc144a",
   "metadata": {},
   "outputs": [],
   "source": [
    "# SAS: Statistical Analysis System\n",
    "\n",
    "import pandas as pd\n",
    "from sas7bdat import SAS7BDAT\n",
    "\n",
    "with SAS7BDAT('data.sas7bdat') as file:\n",
    "    df_sas = file.to_data_frame()"
   ]
  },
  {
   "cell_type": "code",
   "execution_count": null,
   "id": "e26f9586",
   "metadata": {},
   "outputs": [],
   "source": [
    "# Stata: Statistics + Data\n",
    "\n",
    "import pandas as pd\n",
    "\n",
    "data = pd.read_stata('file.dta')"
   ]
  },
  {
   "cell_type": "code",
   "execution_count": null,
   "id": "ad7e5f38",
   "metadata": {},
   "outputs": [],
   "source": [
    "# Import sas7bdat package\n",
    "from sas7bdat import SAS7BDAT\n",
    "\n",
    "# Save file to a DataFrame: df_sas\n",
    "with SAS7BDAT('sales.sas7bdat') as file:\n",
    "    df_sas = file.to_data_frame()\n",
    "\n",
    "# Print head of DataFrame\n",
    "print(df_sas.head())\n",
    "\n",
    "# Plot histogram of DataFrame features (pandas and pyplot already imported)\n",
    "pd.DataFrame.hist(df_sas[['P']])\n",
    "plt.ylabel('count')\n",
    "plt.show()"
   ]
  },
  {
   "cell_type": "markdown",
   "id": "d3c0160f",
   "metadata": {},
   "source": [
    "Importing HDF5 files"
   ]
  },
  {
   "cell_type": "code",
   "execution_count": null,
   "id": "dda1a9d8",
   "metadata": {},
   "outputs": [],
   "source": [
    "# Hierchial Data Format 5\n",
    "\n",
    "# Import library / Package\n",
    "import h5py\n",
    "\n",
    "# Import data\n",
    "filename = 'file.hdf5'\n",
    "data = h5py.File(filename, 'r') # read\n",
    "\n",
    "# Show data\n",
    "data"
   ]
  },
  {
   "cell_type": "markdown",
   "id": "ab4be03d",
   "metadata": {},
   "source": [
    "Importing MATLAB"
   ]
  },
  {
   "cell_type": "code",
   "execution_count": null,
   "id": "a69f4aaa",
   "metadata": {},
   "outputs": [],
   "source": [
    "import scripy.io\n",
    "filename = 'file.mat'\n",
    "mat = scripy.io.kiadmat(filename)"
   ]
  },
  {
   "cell_type": "markdown",
   "id": "33d1f1c8",
   "metadata": {},
   "source": [
    "2. Write a text file"
   ]
  },
  {
   "cell_type": "code",
   "execution_count": null,
   "id": "717a58f8",
   "metadata": {},
   "outputs": [],
   "source": [
    "# Import file\n",
    "filename = 'file.txt'\n",
    "\n",
    "# Write in file\n",
    "file = open(filename, mode='w')\n",
    "\n",
    "# Close the file\n",
    "file.close()"
   ]
  },
  {
   "cell_type": "markdown",
   "id": "f4e48d1b",
   "metadata": {},
   "source": [
    "### Creating a database engine"
   ]
  },
  {
   "cell_type": "code",
   "execution_count": null,
   "id": "a11ecc8d",
   "metadata": {},
   "outputs": [],
   "source": [
    "# Using SQLite & SQLAlchemy\n",
    "\n",
    "# Download package / library\n",
    "from sqlalchemy import create_engine\n",
    "\n",
    "# Import data\n",
    "engine = create_engine('sqlite:///Northwind.sqlite')\n",
    "\n",
    "# getting table names\n",
    "table_names = engine.table_names()\n",
    "print(table_names)"
   ]
  },
  {
   "cell_type": "markdown",
   "id": "af8a8fea",
   "metadata": {},
   "source": [
    "Querying relational database in python"
   ]
  },
  {
   "cell_type": "code",
   "execution_count": null,
   "id": "6cbfbc11",
   "metadata": {},
   "outputs": [],
   "source": [
    "# SQL Query in python\n",
    "\n",
    "# Import package and libraries\n",
    "from sqlalchemy import create_engine\n",
    "import pandas as pd\n",
    "\n",
    "# Import and connect data\n",
    "engine = create_engine('sqlite:///Northwind.sqlite')\n",
    "con = engine.connect()\n",
    "\n",
    "# Query the database\n",
    "rs = con.execute(\"SELECT * FROM Orders\")\n",
    "\n",
    "# Fetch the data and save as dataframe\n",
    "df = pd.DataFrame(rs.fetchall())\n",
    "\n",
    "# Set dataframes column name\n",
    "df.columns = rs.keys()\n",
    "\n",
    "# Close the connection\n",
    "con.close()"
   ]
  },
  {
   "cell_type": "code",
   "execution_count": null,
   "id": "92ea5912",
   "metadata": {},
   "outputs": [],
   "source": [
    "# Import package and libraries\n",
    "from sqlalchemy import create_engine\n",
    "import pandas as pd\n",
    "\n",
    "# Import and connect data\n",
    "engine = create_engine('sqlite:///Northwind.sqlite')\n",
    "con = engine.connect()"
   ]
  },
  {
   "cell_type": "code",
   "execution_count": null,
   "id": "677b3310",
   "metadata": {},
   "outputs": [],
   "source": [
    "# With\n",
    "with engine.connect() as con:\n",
    "    rs = con.execute(\"SELECT * FROM Orders\")\n",
    "    df = pd.DataFrame(rs.fetchmany(size=5)) # 5 rows\n",
    "    df.columns = rs.keys()"
   ]
  },
  {
   "cell_type": "markdown",
   "id": "ffbbbe89",
   "metadata": {},
   "source": [
    "Query Data in Pandas"
   ]
  },
  {
   "cell_type": "code",
   "execution_count": null,
   "id": "448d005a",
   "metadata": {},
   "outputs": [],
   "source": [
    "from sqlalchemy import create_engine\n",
    "import pandas as pd\n",
    "\n",
    "with engine.connect() as con:\n",
    "    rs = con.execute(\"SELECT * FROM Orders\")\n",
    "    df = pd.DataFrame(rs.fetchall())\n",
    "    df.columns = rs.keys()\n",
    "\n",
    "df = pd.read_sql_query(\"SELECT * FROM Orders\", engine)\n"
   ]
  },
  {
   "cell_type": "markdown",
   "id": "0f39ce6c",
   "metadata": {},
   "source": [
    "Exploiting table relationships"
   ]
  },
  {
   "cell_type": "code",
   "execution_count": null,
   "id": "f9994d79",
   "metadata": {},
   "outputs": [],
   "source": [
    "from sqlalchemy import create_engine\n",
    "import pandas as pd\n",
    "\n",
    "engine = create_engine('sqlite:///NorthWind.sqlite')\n",
    "df = pd.read_sql_query(\"SELECT OrderID, CompanyName, FROM Orders INNER JOIN Customers on Orders.CustomerID = Customer.CustomerID\", engine)\n",
    "\n",
    "print(df.head())"
   ]
  },
  {
   "cell_type": "code",
   "execution_count": null,
   "id": "ec5e0b57",
   "metadata": {},
   "outputs": [],
   "source": [
    "# Open engine in context manager\n",
    "# Perform query and save results to DataFrame: df\n",
    "with engine.connect() as con:\n",
    "    rs = con.execute(\"SELECT Title, Name FROM Album INNER JOIN Artist on Album.ArtistID = Artist.ArtistID\")\n",
    "    df = pd.DataFrame(rs.fetchall())\n",
    "    df.columns = rs.keys()\n",
    "# Print head of DataFrame df\n",
    "print(df.head())"
   ]
  }
 ],
 "metadata": {
  "kernelspec": {
   "display_name": "Python 3",
   "language": "python",
   "name": "python3"
  },
  "language_info": {
   "name": "python",
   "version": "3.13.5"
  }
 },
 "nbformat": 4,
 "nbformat_minor": 5
}

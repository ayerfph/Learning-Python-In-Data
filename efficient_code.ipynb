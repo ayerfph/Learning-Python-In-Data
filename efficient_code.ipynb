{
 "cells": [
  {
   "cell_type": "markdown",
   "id": "45a190fc",
   "metadata": {},
   "source": [
    "### Writing Efficient Python Code"
   ]
  },
  {
   "cell_type": "code",
   "execution_count": null,
   "id": "2cee07ec",
   "metadata": {},
   "outputs": [],
   "source": [
    "# Non-pythonic\n",
    "non_pythonic = []\n",
    "numbers = 0\n",
    "\n",
    "for i in range(len(numbers)):\n",
    "    non_pythonic.append(numbers[i] * 2)\n",
    "# Pythonic\n",
    "non_pythonic = [x * 2 for x in numbers]"
   ]
  },
  {
   "cell_type": "markdown",
   "id": "fae9859f",
   "metadata": {},
   "source": [
    "Building with built-ins"
   ]
  },
  {
   "cell_type": "markdown",
   "id": "339e6231",
   "metadata": {},
   "source": [
    "**Python Built-in types:**\n",
    "- list\n",
    "- tuple\n",
    "- set\n",
    "- dict\n",
    "- .... many more\n",
    "\n",
    "**Python Built-in functions:**\n",
    "- print()\n",
    "- len()\n",
    "- range()\n",
    "- round()\n",
    "- enumerate()\n",
    "- map()\n",
    "- zip()\n",
    "- .... many more\n",
    "\n",
    "**Python Built-in modules:**\n",
    "- os\n",
    "- sys\n",
    "- itertools\n",
    "- collections\n",
    "- math\n",
    "- .... many more"
   ]
  },
  {
   "cell_type": "code",
   "execution_count": null,
   "id": "4369e492",
   "metadata": {},
   "outputs": [
    {
     "name": "stdout",
     "output_type": "stream",
     "text": [
      "[0, 1, 2, 3, 4, 5, 6, 7, 8, 9, 10]\n"
     ]
    }
   ],
   "source": [
    "# range(start, stop)\n",
    "num = range(0,11)\n",
    "\n",
    "num_list = list(num)\n",
    "print(num_list)"
   ]
  },
  {
   "cell_type": "code",
   "execution_count": 4,
   "id": "78f6e59e",
   "metadata": {},
   "outputs": [
    {
     "name": "stdout",
     "output_type": "stream",
     "text": [
      "[0, 1, 2, 3, 4, 5, 6, 7, 8, 9, 10]\n"
     ]
    }
   ],
   "source": [
    "# range(stop)\n",
    "num = range(11)\n",
    "\n",
    "num_list = list(num)\n",
    "print(num_list)"
   ]
  },
  {
   "cell_type": "code",
   "execution_count": 5,
   "id": "aaeabf83",
   "metadata": {},
   "outputs": [
    {
     "name": "stdout",
     "output_type": "stream",
     "text": [
      "[2, 4, 6, 8, 10]\n"
     ]
    }
   ],
   "source": [
    "# range with a step value\n",
    "even_num = range(2, 11, 2)\n",
    "even_num_list = list(even_num)\n",
    "\n",
    "print(even_num_list)"
   ]
  },
  {
   "cell_type": "code",
   "execution_count": 6,
   "id": "c33c0740",
   "metadata": {},
   "outputs": [
    {
     "name": "stdout",
     "output_type": "stream",
     "text": [
      "[(0, 'a'), (1, 'b'), (2, 'c')]\n"
     ]
    }
   ],
   "source": [
    "# using enumerate()\n",
    "letters = ['a', 'b', 'c']\n",
    "\n",
    "index_letters = enumerate(letters)\n",
    "\n",
    "index_letters_list = list(index_letters)\n",
    "print(index_letters_list)"
   ]
  },
  {
   "cell_type": "code",
   "execution_count": 7,
   "id": "34caf1dd",
   "metadata": {},
   "outputs": [
    {
     "name": "stdout",
     "output_type": "stream",
     "text": [
      "[2, 2, 3, 5, 5]\n"
     ]
    }
   ],
   "source": [
    "# using map\n",
    "num = [1.5, 2.3, 3.4, 4.6, 5.0]\n",
    "\n",
    "round_num = map(round, num)\n",
    "\n",
    "print(list(round_num))"
   ]
  },
  {
   "cell_type": "code",
   "execution_count": 8,
   "id": "9cb8d4e4",
   "metadata": {},
   "outputs": [
    {
     "name": "stdout",
     "output_type": "stream",
     "text": [
      "[1, 4, 9, 16, 25]\n"
     ]
    }
   ],
   "source": [
    "# using lambda (annonymous function)\n",
    "num = [1,2,3,4,5]\n",
    "\n",
    "square_num = map(lambda x: x ** 2, num)\n",
    "\n",
    "print(list(square_num))"
   ]
  },
  {
   "cell_type": "markdown",
   "id": "35a9adc8",
   "metadata": {},
   "source": [
    "Efficient Code In Numpy Arrays"
   ]
  },
  {
   "cell_type": "code",
   "execution_count": 2,
   "id": "19ad2e1b",
   "metadata": {},
   "outputs": [
    {
     "data": {
      "text/plain": [
       "array([0, 1, 2, 3, 4])"
      ]
     },
     "execution_count": 2,
     "metadata": {},
     "output_type": "execute_result"
    }
   ],
   "source": [
    "# Numpy array\n",
    "import numpy as np\n",
    "\n",
    "num_np = np.array(range(5))\n",
    "\n",
    "\n",
    "num_np"
   ]
  },
  {
   "cell_type": "code",
   "execution_count": null,
   "id": "226318ce",
   "metadata": {},
   "outputs": [
    {
     "name": "stdout",
     "output_type": "stream",
     "text": [
      "int64\n",
      "float64\n"
     ]
    }
   ],
   "source": [
    "# Numpy array homogeneity\n",
    "nums_ints = np.array([1,2,3])\n",
    "print(nums_ints.dtype)\n",
    "\n",
    "nums_float = np.array([1,2.5,3])\n",
    "print(nums_float.dtype)\n",
    "\n",
    "\n",
    "# dtype used for data type checking"
   ]
  },
  {
   "cell_type": "code",
   "execution_count": null,
   "id": "37bd1a42",
   "metadata": {},
   "outputs": [
    {
     "name": "stdout",
     "output_type": "stream",
     "text": [
      "[1, 4, 9, 16]\n"
     ]
    }
   ],
   "source": [
    "# Alternative example before introduced numpy array broadcasting\n",
    "sqr_nums = []\n",
    "nums = [1,2,3,4] #sample data\n",
    "\n",
    "for num in nums:\n",
    "    sqr_nums.append(num ** 2)\n",
    "print(sqr_nums)"
   ]
  },
  {
   "cell_type": "code",
   "execution_count": null,
   "id": "5c62363e",
   "metadata": {},
   "outputs": [
    {
     "name": "stdout",
     "output_type": "stream",
     "text": [
      "[1, 4, 9, 16]\n"
     ]
    }
   ],
   "source": [
    "# List comprehension (better option but not the best)\n",
    "sqrd_nums = [num ** 2 for num in nums]\n",
    "\n",
    "print(sqrd_nums)"
   ]
  },
  {
   "cell_type": "code",
   "execution_count": null,
   "id": "4f43f75b",
   "metadata": {},
   "outputs": [
    {
     "data": {
      "text/plain": [
       "array([4, 1, 0, 1, 4])"
      ]
     },
     "execution_count": 19,
     "metadata": {},
     "output_type": "execute_result"
    }
   ],
   "source": [
    "# numpy array broadcasting\n",
    "nums_np = np.array([-2,-1,0,1,2])\n",
    "\n",
    "nums_np ** 2"
   ]
  },
  {
   "cell_type": "markdown",
   "id": "4b5aebb5",
   "metadata": {},
   "source": [
    "Examining Runtime"
   ]
  },
  {
   "cell_type": "code",
   "execution_count": null,
   "id": "f1f2fb07",
   "metadata": {},
   "outputs": [
    {
     "name": "stdout",
     "output_type": "stream",
     "text": [
      "6.01 μs ± 30.8 ns per loop (mean ± std. dev. of 7 runs, 100,000 loops each)\n"
     ]
    }
   ],
   "source": [
    "# using %timeit\n",
    "import numpy as np\n",
    "\n",
    "#random = np.random.rand(1000)\n",
    "%timeit random = np.random.rand(1000)"
   ]
  },
  {
   "cell_type": "code",
   "execution_count": 3,
   "id": "a4772359",
   "metadata": {},
   "outputs": [
    {
     "name": "stdout",
     "output_type": "stream",
     "text": [
      "20.7 μs ± 3.68 μs per loop (mean ± std. dev. of 2 runs, 10 loops each)\n"
     ]
    }
   ],
   "source": [
    "# Set numbers of runs to 2 (-r2)\n",
    "# Set numbers of loops to 10 (-n10)\n",
    "%timeit -r2 -n10 random = np.random.rand(1000)"
   ]
  },
  {
   "cell_type": "code",
   "execution_count": 16,
   "id": "7ada5cb2",
   "metadata": {},
   "outputs": [
    {
     "name": "stdout",
     "output_type": "stream",
     "text": [
      "188 ns ± 2.42 ns per loop (mean ± std. dev. of 7 runs, 10,000,000 loops each)\n"
     ]
    }
   ],
   "source": [
    "# Using in single line of code\n",
    "%timeit num = [x for x in range(10)]"
   ]
  },
  {
   "cell_type": "code",
   "execution_count": 35,
   "id": "7731755f",
   "metadata": {},
   "outputs": [
    {
     "name": "stdout",
     "output_type": "stream",
     "text": [
      "241 ns ± 5.27 ns per loop (mean ± std. dev. of 7 runs, 1,000,000 loops each)\n"
     ]
    }
   ],
   "source": [
    "%%timeit\n",
    "nums = []\n",
    "for x in range(10):\n",
    "    nums.append(x)\n",
    "\n",
    "# using for multiple lines"
   ]
  },
  {
   "cell_type": "code",
   "execution_count": 43,
   "id": "bf5ad66b",
   "metadata": {},
   "outputs": [
    {
     "name": "stdout",
     "output_type": "stream",
     "text": [
      "5.99 μs ± 121 ns per loop (mean ± std. dev. of 7 runs, 100,000 loops each)\n"
     ]
    },
    {
     "data": {
      "text/plain": [
       "[6.083393999979307e-06,\n",
       " 6.13083899999765e-06,\n",
       " 6.166964000003645e-06,\n",
       " 5.954119000016363e-06,\n",
       " 5.893202000006567e-06,\n",
       " 5.854494000013801e-06,\n",
       " 5.8751789999951145e-06]"
      ]
     },
     "execution_count": 43,
     "metadata": {},
     "output_type": "execute_result"
    }
   ],
   "source": [
    "# saving output\n",
    "times = %timeit -o random = np.random.rand(1000)\n",
    "times.timings\n"
   ]
  },
  {
   "cell_type": "code",
   "execution_count": 42,
   "id": "08eb3c9e",
   "metadata": {},
   "outputs": [
    {
     "name": "stdout",
     "output_type": "stream",
     "text": [
      "6.14 μs ± 90.9 ns per loop (mean ± std. dev. of 7 runs, 100,000 loops each)\n"
     ]
    },
    {
     "data": {
      "text/plain": [
       "6.025280000030762e-06"
      ]
     },
     "execution_count": 42,
     "metadata": {},
     "output_type": "execute_result"
    }
   ],
   "source": [
    "times = %timeit -o random = np.random.rand(1000)\n",
    "times.best"
   ]
  },
  {
   "cell_type": "code",
   "execution_count": 44,
   "id": "a7ebea04",
   "metadata": {},
   "outputs": [
    {
     "name": "stdout",
     "output_type": "stream",
     "text": [
      "6.25 μs ± 60.1 ns per loop (mean ± std. dev. of 7 runs, 100,000 loops each)\n"
     ]
    },
    {
     "data": {
      "text/plain": [
       "6.370698999999149e-06"
      ]
     },
     "execution_count": 44,
     "metadata": {},
     "output_type": "execute_result"
    }
   ],
   "source": [
    "times = %timeit -o random = np.random.rand(1000)\n",
    "times.worst"
   ]
  },
  {
   "cell_type": "code",
   "execution_count": 47,
   "id": "5dc0fb10",
   "metadata": {},
   "outputs": [
    {
     "name": "stdout",
     "output_type": "stream",
     "text": [
      "38.6 ns ± 0.906 ns per loop (mean ± std. dev. of 7 runs, 10,000,000 loops each)\n",
      "19.3 ns ± 0.294 ns per loop (mean ± std. dev. of 7 runs, 100,000,000 loops each)\n"
     ]
    }
   ],
   "source": [
    "# Comparing times using dictionary\n",
    "f_time = %timeit -o formal_dict = dict()\n",
    "\n",
    "# Using literals syntax\n",
    "l_time = %timeit -o formal_dict = {}"
   ]
  },
  {
   "cell_type": "code",
   "execution_count": 48,
   "id": "129f1719",
   "metadata": {},
   "outputs": [
    {
     "name": "stdout",
     "output_type": "stream",
     "text": [
      "l_time better than f_time by 19.277724285613143 ns\n"
     ]
    }
   ],
   "source": [
    "# compare the two\n",
    "diff = (f_time.average - l_time.average) * (10**9)\n",
    "print('l_time better than f_time by {} ns'.format(diff))\n"
   ]
  },
  {
   "cell_type": "code",
   "execution_count": 50,
   "id": "611c0cf7",
   "metadata": {},
   "outputs": [
    {
     "name": "stdout",
     "output_type": "stream",
     "text": [
      "36.2 ns ± 1.57 ns per loop (mean ± std. dev. of 7 runs, 10,000,000 loops each)\n",
      "19.3 ns ± 0.543 ns per loop (mean ± std. dev. of 7 runs, 100,000,000 loops each)\n"
     ]
    }
   ],
   "source": [
    "# Comparing times (formal vs literals)\n",
    "%timeit formal = dict()\n",
    "%timeit literal = {}"
   ]
  },
  {
   "cell_type": "markdown",
   "id": "7c1c0c12",
   "metadata": {},
   "source": [
    "Code profiling for runtime"
   ]
  },
  {
   "cell_type": "code",
   "execution_count": null,
   "id": "c478c886",
   "metadata": {},
   "outputs": [],
   "source": [
    "# pip install line_profiler"
   ]
  },
  {
   "cell_type": "code",
   "execution_count": 6,
   "id": "c270e6db",
   "metadata": {},
   "outputs": [],
   "source": [
    "import numpy as np\n",
    "\n",
    "# Code profiling: runtime\n",
    "heroes = ['Batman', 'Superman','Spider-man']\n",
    "hts = np.array([188.0, 191.0, 183.0])\n",
    "wts = np.array([95.0, 101.0, 74.0])"
   ]
  },
  {
   "cell_type": "code",
   "execution_count": 7,
   "id": "41549ac2",
   "metadata": {},
   "outputs": [],
   "source": [
    "def convert_units(heroes, heights, weights):\n",
    "    new_hts = [ht * 0.39370 for ht in heights]\n",
    "    new_wts = [wt * 2.20462 for wt in weights]\n",
    "\n",
    "    hero_data = {}\n",
    "\n",
    "    for i, hero in enumerate(heroes):\n",
    "        hero_data[hero] = (new_hts[i], new_wts[i])\n",
    "    \n",
    "    return hero_data"
   ]
  },
  {
   "cell_type": "code",
   "execution_count": 8,
   "id": "b7ba343d",
   "metadata": {},
   "outputs": [
    {
     "data": {
      "text/plain": [
       "{'Batman': (np.float64(74.01559999999999), np.float64(209.4389)),\n",
       " 'Superman': (np.float64(75.19669999999999), np.float64(222.66661999999997)),\n",
       " 'Spider-man': (np.float64(72.0471), np.float64(163.14188))}"
      ]
     },
     "execution_count": 8,
     "metadata": {},
     "output_type": "execute_result"
    }
   ],
   "source": [
    "convert_units(heroes, hts, wts)"
   ]
  },
  {
   "cell_type": "code",
   "execution_count": 9,
   "id": "a35f0fb9",
   "metadata": {},
   "outputs": [
    {
     "name": "stdout",
     "output_type": "stream",
     "text": [
      "1.74 μs ± 17 ns per loop (mean ± std. dev. of 7 runs, 1,000,000 loops each)\n"
     ]
    }
   ],
   "source": [
    "# runtime\n",
    "%timeit convert_units(heroes, hts, wts)"
   ]
  },
  {
   "cell_type": "code",
   "execution_count": 14,
   "id": "292208ad",
   "metadata": {},
   "outputs": [
    {
     "name": "stdout",
     "output_type": "stream",
     "text": [
      "The line_profiler extension is already loaded. To reload it, use:\n",
      "  %reload_ext line_profiler\n"
     ]
    }
   ],
   "source": [
    "# how long each line runtime\n",
    "\n",
    "%load_ext line_profiler"
   ]
  },
  {
   "cell_type": "code",
   "execution_count": 15,
   "id": "6d5a4ef1",
   "metadata": {},
   "outputs": [
    {
     "name": "stdout",
     "output_type": "stream",
     "text": [
      "Timer unit: 1e-07 s\n",
      "\n",
      "Total time: 2.22e-05 s\n",
      "File: C:\\Users\\jetta\\AppData\\Local\\Temp\\ipykernel_22620\\3078075682.py\n",
      "Function: convert_units at line 1\n",
      "\n",
      "Line #      Hits         Time  Per Hit   % Time  Line Contents\n",
      "==============================================================\n",
      "     1                                           def convert_units(heroes, heights, weights):\n",
      "     2         1        103.0    103.0     46.4      new_hts = [ht * 0.39370 for ht in heights]\n",
      "     3         1         22.0     22.0      9.9      new_wts = [wt * 2.20462 for wt in weights]\n",
      "     4                                           \n",
      "     5         1          7.0      7.0      3.2      hero_data = {}\n",
      "     6                                           \n",
      "     7         4         41.0     10.2     18.5      for i, hero in enumerate(heroes):\n",
      "     8         3         20.0      6.7      9.0          hero_data[hero] = (new_hts[i], new_wts[i])\n",
      "     9                                           \n",
      "    10         1         29.0     29.0     13.1      return hero_data"
     ]
    }
   ],
   "source": [
    "%lprun -f convert_units convert_units(heroes, hts, wts)"
   ]
  },
  {
   "cell_type": "markdown",
   "id": "fc125fb6",
   "metadata": {},
   "source": [
    "Code Profiling for Memory Usage"
   ]
  },
  {
   "cell_type": "code",
   "execution_count": 60,
   "id": "73956aa3",
   "metadata": {},
   "outputs": [
    {
     "data": {
      "text/plain": [
       "8056"
      ]
     },
     "execution_count": 60,
     "metadata": {},
     "output_type": "execute_result"
    }
   ],
   "source": [
    "# Quick and dirty approach\n",
    "import sys\n",
    "\n",
    "num = [*range(1000)]\n",
    "sys.getsizeof(num)"
   ]
  },
  {
   "cell_type": "code",
   "execution_count": null,
   "id": "d8278b38",
   "metadata": {},
   "outputs": [
    {
     "data": {
      "text/plain": [
       "8112"
      ]
     },
     "execution_count": 61,
     "metadata": {},
     "output_type": "execute_result"
    }
   ],
   "source": [
    "# With numpy\n",
    "import numpy as np\n",
    "\n",
    "num_np = np.array(range(1000))\n",
    "sys.getsizeof(num_np)"
   ]
  },
  {
   "cell_type": "code",
   "execution_count": 17,
   "id": "40c17e45",
   "metadata": {},
   "outputs": [
    {
     "name": "stdout",
     "output_type": "stream",
     "text": [
      "The memory_profiler extension is already loaded. To reload it, use:\n",
      "  %reload_ext memory_profiler\n",
      "\n"
     ]
    },
    {
     "name": "stdout",
     "output_type": "stream",
     "text": [
      "Filename: d:\\Development\\python\\learn pandas\\efficientsample.py\n",
      "\n",
      "Line #    Mem usage    Increment  Occurrences   Line Contents\n",
      "=============================================================\n",
      "     8     99.7 MiB     99.7 MiB           1   def convert_units(heroes, heights, weights):\n",
      "     9     99.7 MiB      0.0 MiB           4       new_hts = [ht * 0.39370 for ht in heights]\n",
      "    10     99.7 MiB      0.0 MiB           4       new_wts = [wt * 2.20462 for wt in weights]\n",
      "    11                                         \n",
      "    12     99.7 MiB      0.0 MiB           1       hero_data = {}\n",
      "    13                                         \n",
      "    14     99.7 MiB      0.0 MiB           4       for i, hero in enumerate(heroes):\n",
      "    15     99.7 MiB      0.0 MiB           3           hero_data[hero] = (new_hts[i], new_wts[i])\n",
      "    16                                             \n",
      "    17     99.7 MiB      0.0 MiB           1       return hero_data"
     ]
    }
   ],
   "source": [
    "from efficientsample import convert_units\n",
    "\n",
    "# pip install memory_profiler\n",
    "%load_ext memory_profiler\n",
    "%mprun -f convert_units convert_units(heroes, hts, wts)"
   ]
  },
  {
   "cell_type": "markdown",
   "id": "27300ee6",
   "metadata": {},
   "source": [
    "Efficiently, combining, counting, and iterating"
   ]
  },
  {
   "cell_type": "code",
   "execution_count": null,
   "id": "161f5aca",
   "metadata": {},
   "outputs": [
    {
     "name": "stdout",
     "output_type": "stream",
     "text": [
      "[('Bulbasaur', 45), ('Charmander', 39), ('Squirtle', 44)]\n"
     ]
    }
   ],
   "source": [
    "name = ['Bulbasaur','Charmander','Squirtle']\n",
    "hp = [45,39,44]"
   ]
  },
  {
   "cell_type": "code",
   "execution_count": 21,
   "id": "310f3beb",
   "metadata": {},
   "outputs": [
    {
     "name": "stdout",
     "output_type": "stream",
     "text": [
      "[('Bulbasaur', 45), ('Charmander', 39), ('Squirtle', 44)]\n"
     ]
    }
   ],
   "source": [
    "# Combining objects\n",
    "combined = []\n",
    "\n",
    "for i, pokemon in enumerate(name):\n",
    "    combined.append((pokemon, hp[i]))\n",
    "\n",
    "print(combined)"
   ]
  },
  {
   "cell_type": "code",
   "execution_count": null,
   "id": "051f20a7",
   "metadata": {},
   "outputs": [
    {
     "name": "stdout",
     "output_type": "stream",
     "text": [
      "<class 'zip'>\n"
     ]
    }
   ],
   "source": [
    "# combined zip\n",
    "combined_zip = zip(name, hp)\n",
    "\n",
    "# Show class\n",
    "print(type(combined_zip))"
   ]
  },
  {
   "cell_type": "code",
   "execution_count": null,
   "id": "853f5925",
   "metadata": {},
   "outputs": [
    {
     "name": "stdout",
     "output_type": "stream",
     "text": [
      "[('Bulbasaur', 45), ('Charmander', 39), ('Squirtle', 44)]\n"
     ]
    }
   ],
   "source": [
    "# unpacked zip\n",
    "combined_zip_list = [*combined_zip]\n",
    "\n",
    "# Show unzip \n",
    "print(combined_zip_list)"
   ]
  },
  {
   "cell_type": "code",
   "execution_count": 26,
   "id": "75198e8a",
   "metadata": {},
   "outputs": [
    {
     "name": "stdout",
     "output_type": "stream",
     "text": [
      "{'Grass': 1, 'Dark': 1, 'Fire': 1}\n"
     ]
    }
   ],
   "source": [
    "# counting with loop\n",
    "types = ['Grass', 'Dark', 'Fire']\n",
    "type_counts = {}\n",
    "\n",
    "for poke_type in types:\n",
    "    if poke_type not in type_counts:\n",
    "        type_counts[poke_type] = 1\n",
    "    else:\n",
    "        type_counts[poke_type] += 1\n",
    "\n",
    "print(type_counts)"
   ]
  },
  {
   "cell_type": "code",
   "execution_count": null,
   "id": "8b438e43",
   "metadata": {},
   "outputs": [
    {
     "name": "stdout",
     "output_type": "stream",
     "text": [
      "Counter({'Grass': 1, 'Dark': 1, 'Fire': 1})\n"
     ]
    }
   ],
   "source": [
    "# Using counter\n",
    "types = ['Grass', 'Dark', 'Fire']\n",
    "\n",
    "from collections import Counter\n",
    "type_counts = Counter(types)\n",
    "print(type_counts)\n"
   ]
  },
  {
   "cell_type": "code",
   "execution_count": 28,
   "id": "8c44ad99",
   "metadata": {},
   "outputs": [],
   "source": [
    "# combinations with loop\n",
    "types = ['Grass', 'Dark', 'Fire']\n",
    "combos = []"
   ]
  },
  {
   "cell_type": "code",
   "execution_count": 29,
   "id": "e8236daa",
   "metadata": {},
   "outputs": [
    {
     "name": "stdout",
     "output_type": "stream",
     "text": [
      "[('Grass', 'Dark'), ('Grass', 'Fire'), ('Dark', 'Fire')]\n"
     ]
    }
   ],
   "source": [
    "for x in types:\n",
    "    for y in types:\n",
    "        if x == y:\n",
    "            continue\n",
    "        if ((x,y) not in combos) & ((y,x) not in combos):\n",
    "            combos.append((x,y))\n",
    "print(combos)"
   ]
  },
  {
   "cell_type": "code",
   "execution_count": 31,
   "id": "d72f47b3",
   "metadata": {},
   "outputs": [
    {
     "name": "stdout",
     "output_type": "stream",
     "text": [
      "<class 'itertools.combinations'>\n"
     ]
    }
   ],
   "source": [
    "# itertools.combinations\n",
    "\n",
    "from itertools import combinations\n",
    "combos_obj = combinations(types, 2)\n",
    "\n",
    "print(type(combos_obj))"
   ]
  },
  {
   "cell_type": "code",
   "execution_count": 32,
   "id": "0f5e23ec",
   "metadata": {},
   "outputs": [
    {
     "name": "stdout",
     "output_type": "stream",
     "text": [
      "[('Grass', 'Dark'), ('Grass', 'Fire'), ('Dark', 'Fire')]\n"
     ]
    }
   ],
   "source": [
    "combos = [*combos_obj]\n",
    "print(combos)"
   ]
  },
  {
   "cell_type": "code",
   "execution_count": null,
   "id": "210adc21",
   "metadata": {},
   "outputs": [],
   "source": [
    "# Set theory\n",
    "\n",
    "# intersection()\n",
    "# difference()\n",
    "# symmetric_difference()\n",
    "# union()"
   ]
  },
  {
   "cell_type": "code",
   "execution_count": 34,
   "id": "70fcbdc0",
   "metadata": {},
   "outputs": [],
   "source": [
    "list_a = ['Bulbasaur', 'Charmander', 'Squirtle']\n",
    "list_b = ['Caterpie', 'Pidgey', 'Squirtle']"
   ]
  },
  {
   "cell_type": "code",
   "execution_count": null,
   "id": "69135ff3",
   "metadata": {},
   "outputs": [
    {
     "name": "stdout",
     "output_type": "stream",
     "text": [
      "['Squirtle']\n"
     ]
    }
   ],
   "source": [
    "# inefficient code\n",
    "in_common = []\n",
    "\n",
    "for pokemon_a in list_a:\n",
    "    for pokemon_b in list_b:\n",
    "        if pokemon_a == pokemon_b:\n",
    "            in_common.append(pokemon_a)\n",
    "\n",
    "print(in_common)"
   ]
  },
  {
   "cell_type": "code",
   "execution_count": null,
   "id": "99d38381",
   "metadata": {},
   "outputs": [
    {
     "data": {
      "text/plain": [
       "{'Squirtle'}"
      ]
     },
     "execution_count": 43,
     "metadata": {},
     "output_type": "execute_result"
    }
   ],
   "source": [
    "# Using set : faster than previous code\n",
    "set_a = set(list_a)\n",
    "set_b = set(list_b)\n",
    "\n",
    "set_a.intersection(set_b)"
   ]
  },
  {
   "cell_type": "code",
   "execution_count": 47,
   "id": "7cf446a7",
   "metadata": {},
   "outputs": [
    {
     "data": {
      "text/plain": [
       "{'Bulbasaur', 'Charmander'}"
      ]
     },
     "execution_count": 47,
     "metadata": {},
     "output_type": "execute_result"
    }
   ],
   "source": [
    "# set method difference\n",
    "set_a.difference(set_b)"
   ]
  },
  {
   "cell_type": "code",
   "execution_count": 46,
   "id": "328642fb",
   "metadata": {},
   "outputs": [
    {
     "data": {
      "text/plain": [
       "{'Caterpie', 'Pidgey'}"
      ]
     },
     "execution_count": 46,
     "metadata": {},
     "output_type": "execute_result"
    }
   ],
   "source": [
    "set_b.difference(set_a)"
   ]
  },
  {
   "cell_type": "code",
   "execution_count": 48,
   "id": "e7bdb1e5",
   "metadata": {},
   "outputs": [
    {
     "data": {
      "text/plain": [
       "{'Bulbasaur', 'Caterpie', 'Charmander', 'Pidgey'}"
      ]
     },
     "execution_count": 48,
     "metadata": {},
     "output_type": "execute_result"
    }
   ],
   "source": [
    "# symmetric difference\n",
    "set_a.symmetric_difference(set_b)"
   ]
  },
  {
   "cell_type": "code",
   "execution_count": 49,
   "id": "48b227c9",
   "metadata": {},
   "outputs": [
    {
     "data": {
      "text/plain": [
       "{'Bulbasaur', 'Caterpie', 'Charmander', 'Pidgey', 'Squirtle'}"
      ]
     },
     "execution_count": 49,
     "metadata": {},
     "output_type": "execute_result"
    }
   ],
   "source": [
    "set_a.union(set_b)"
   ]
  },
  {
   "cell_type": "code",
   "execution_count": 51,
   "id": "67928ece",
   "metadata": {},
   "outputs": [
    {
     "name": "stdout",
     "output_type": "stream",
     "text": [
      "{'Bulbasaur', 'Charmander', 'Squirtle', 'Caterpie', 'Pidgey'}\n"
     ]
    }
   ],
   "source": [
    "pokemon = set_a.union(set_b)\n",
    "# unique with sets\n",
    "unique_set = set(pokemon)\n",
    "\n",
    "print(unique_set)"
   ]
  },
  {
   "cell_type": "code",
   "execution_count": null,
   "id": "692be2b0",
   "metadata": {},
   "outputs": [],
   "source": [
    "# Eliminating Loops\n",
    "\n",
    "# for loop: iterate over sequence piece by piece\n",
    "# while loop: repeat loop as long as the condition is met\n",
    "# nested loop: use one looop inside another loop"
   ]
  },
  {
   "cell_type": "code",
   "execution_count": 52,
   "id": "43ed6d38",
   "metadata": {},
   "outputs": [],
   "source": [
    "stats = [\n",
    "    [90,92,75,60],\n",
    "    [25,20,15,90],\n",
    "    [65,130,60,75]\n",
    "]"
   ]
  },
  {
   "cell_type": "code",
   "execution_count": 56,
   "id": "ca4c9b93",
   "metadata": {},
   "outputs": [
    {
     "name": "stdout",
     "output_type": "stream",
     "text": [
      "[317, 150, 330]\n"
     ]
    }
   ],
   "source": [
    "# for loop approach\n",
    "totals = []\n",
    "for row in stats:\n",
    "    totals.append(sum(row))\n",
    "\n",
    "print(totals)"
   ]
  },
  {
   "cell_type": "code",
   "execution_count": 57,
   "id": "5a58af35",
   "metadata": {},
   "outputs": [
    {
     "name": "stdout",
     "output_type": "stream",
     "text": [
      "[317, 150, 330]\n"
     ]
    }
   ],
   "source": [
    "# list comprehension\n",
    "totals_comp = [sum(row) for row in stats]\n",
    "\n",
    "print(totals_comp)\n",
    "\n"
   ]
  },
  {
   "cell_type": "code",
   "execution_count": null,
   "id": "54236344",
   "metadata": {},
   "outputs": [
    {
     "name": "stdout",
     "output_type": "stream",
     "text": [
      "[317, 150, 330]\n"
     ]
    }
   ],
   "source": [
    "# built-in map function\n",
    "totals_map = [*map(sum, stats)] #faster then the 2 previous code types\n",
    "\n",
    "print(totals_map)"
   ]
  },
  {
   "cell_type": "code",
   "execution_count": 59,
   "id": "4601c137",
   "metadata": {},
   "outputs": [],
   "source": [
    "# Eliminating loops with built-in modules\n",
    "types = ['Grass', 'Dark', 'Fire']"
   ]
  },
  {
   "cell_type": "code",
   "execution_count": 72,
   "id": "801b707b",
   "metadata": {},
   "outputs": [
    {
     "name": "stdout",
     "output_type": "stream",
     "text": [
      "[('Grass', 'Dark'), ('Grass', 'Fire'), ('Dark', 'Fire')]\n"
     ]
    }
   ],
   "source": [
    "# Nested approach\n",
    "combos = []\n",
    "\n",
    "for x in types:\n",
    "    for y in types:\n",
    "        if x == y:\n",
    "            continue\n",
    "        if ((x,y) not in combos) & ((y,x) not in combos):\n",
    "            combos.append((x,y))\n",
    "print(combos)"
   ]
  },
  {
   "cell_type": "code",
   "execution_count": null,
   "id": "00ab75d5",
   "metadata": {},
   "outputs": [
    {
     "name": "stdout",
     "output_type": "stream",
     "text": [
      "[('Grass', 'Dark'), ('Grass', 'Fire'), ('Dark', 'Fire')]\n"
     ]
    }
   ],
   "source": [
    "# built-in module approach\n",
    "from itertools import combinations\n",
    "combos2 = [*combinations(types, 2)]\n",
    "\n",
    "print(combos2)\n"
   ]
  },
  {
   "cell_type": "code",
   "execution_count": 75,
   "id": "d08effa3",
   "metadata": {},
   "outputs": [],
   "source": [
    "# Eliminate loops with numpy\n",
    "import numpy as np\n",
    "\n",
    "npstats = np.array([\n",
    "    [90,92,75,60],\n",
    "    [25,20,15,90],\n",
    "    [65,130,60,75]\n",
    "])"
   ]
  },
  {
   "cell_type": "code",
   "execution_count": 78,
   "id": "6cf4e43f",
   "metadata": {},
   "outputs": [
    {
     "name": "stdout",
     "output_type": "stream",
     "text": [
      "[np.float64(79.25), np.float64(37.5), np.float64(82.5)]\n"
     ]
    }
   ],
   "source": [
    "avgs = []\n",
    "for row in npstats:\n",
    "    avg = np.mean(row)\n",
    "    avgs.append(avg)\n",
    "\n",
    "print(avgs)"
   ]
  },
  {
   "cell_type": "code",
   "execution_count": null,
   "id": "523acd0d",
   "metadata": {},
   "outputs": [
    {
     "name": "stdout",
     "output_type": "stream",
     "text": [
      "[79.25 37.5  82.5 ]\n"
     ]
    }
   ],
   "source": [
    "# short code\n",
    "avgs_np = npstats.mean(axis=1) # faster than creating for loop\n",
    "print(avgs_np)"
   ]
  },
  {
   "cell_type": "markdown",
   "id": "eef643b5",
   "metadata": {},
   "source": [
    "Writing better loops"
   ]
  },
  {
   "cell_type": "code",
   "execution_count": 1,
   "id": "fbf1cb5d",
   "metadata": {},
   "outputs": [],
   "source": [
    "# moving calculations above a loop\n",
    "import numpy as np\n",
    "\n",
    "names = ['Absol', 'Aron', 'Jynx', 'Natu', 'Onyx']\n",
    "attacks = np.array([130,70,50,50,45])"
   ]
  },
  {
   "cell_type": "code",
   "execution_count": 4,
   "id": "9397b332",
   "metadata": {},
   "outputs": [
    {
     "name": "stdout",
     "output_type": "stream",
     "text": [
      "Absol's attack: 130 > average: 69.0!\n",
      "Aron's attack: 70 > average: 69.0!\n"
     ]
    }
   ],
   "source": [
    "# for loop\n",
    "for pokemon, attack in zip(names, attacks):\n",
    "    total_attack_avg = attacks.mean()\n",
    "    if attack > total_attack_avg:\n",
    "        print(\n",
    "            \"{}'s attack: {} > average: {}!\"\n",
    "            .format(pokemon, attack, total_attack_avg)\n",
    "        )"
   ]
  },
  {
   "cell_type": "code",
   "execution_count": 7,
   "id": "ebe9aed7",
   "metadata": {},
   "outputs": [
    {
     "name": "stdout",
     "output_type": "stream",
     "text": [
      "Absol's attack: 130 > average: 69.0!\n",
      "Aron's attack: 70 > average: 69.0!\n"
     ]
    }
   ],
   "source": [
    "for pokemon, attack in zip(names, attacks):\n",
    "    total_attack_avg = attacks.mean()\n",
    "    if attack > total_attack_avg:\n",
    "        print(\n",
    "            \"{}'s attack: {} > average: {}!\"\n",
    "            .format(pokemon, attack, total_attack_avg)\n",
    "        )"
   ]
  },
  {
   "cell_type": "code",
   "execution_count": null,
   "id": "f8817e68",
   "metadata": {},
   "outputs": [],
   "source": [
    "# Calculate total average once (outside the loop)\n",
    "names = ['Absol', 'Aron', 'Jynx', 'Natu', 'Onyx']\n",
    "attacks = np.array([130,70,50,50,45])\n",
    "total_attack_avg = attacks.mean()"
   ]
  },
  {
   "cell_type": "code",
   "execution_count": 9,
   "id": "458a85f4",
   "metadata": {},
   "outputs": [
    {
     "name": "stdout",
     "output_type": "stream",
     "text": [
      "Absol's attack: 130 > average: 69.0!\n",
      "Aron's attack: 70 > average: 69.0!\n"
     ]
    }
   ],
   "source": [
    "# This for loop format is much efficient than the previous one\n",
    "for pokemon, attack in zip(names, attacks):\n",
    "    if attack > total_attack_avg:\n",
    "        print(\n",
    "            \"{}'s attack: {} > average: {}!\"\n",
    "            .format(pokemon, attack, total_attack_avg)\n",
    "        )"
   ]
  },
  {
   "cell_type": "code",
   "execution_count": null,
   "id": "653ad406",
   "metadata": {},
   "outputs": [],
   "source": [
    "# using holistic conversions\n",
    "names = ['Pikachu', 'Squirtle', 'Articuno']\n",
    "legend = [False, False, True]\n",
    "generations = [1,1,1]"
   ]
  },
  {
   "cell_type": "code",
   "execution_count": 11,
   "id": "0418b8fd",
   "metadata": {},
   "outputs": [
    {
     "name": "stdout",
     "output_type": "stream",
     "text": [
      "[['Pikachu', False, 1], ['Squirtle', False, 1], ['Articuno', True, 1]]\n"
     ]
    }
   ],
   "source": [
    "poke_data = []\n",
    "\n",
    "for poke_tuple in zip(names, legend, generations):\n",
    "    poke_list = list(poke_tuple)\n",
    "    poke_data.append(poke_list)\n",
    "print(poke_data)"
   ]
  },
  {
   "cell_type": "code",
   "execution_count": null,
   "id": "32d23d62",
   "metadata": {},
   "outputs": [
    {
     "name": "stdout",
     "output_type": "stream",
     "text": [
      "[['Pikachu', False, 1], ['Squirtle', False, 1], ['Articuno', True, 1]]\n"
     ]
    }
   ],
   "source": [
    "# Holistic conversion makes easier and efficient\n",
    "poke_data_tuples = []\n",
    "\n",
    "for poke_tuple in zip(names, legend, generations):\n",
    "    poke_data_tuples.append(poke_tuple)\n",
    "poke_data = [*map(list, poke_data_tuples)]\n",
    "print(poke_data)"
   ]
  },
  {
   "cell_type": "markdown",
   "id": "c8e9548e",
   "metadata": {},
   "source": [
    "Basic pandas optimizations"
   ]
  },
  {
   "cell_type": "code",
   "execution_count": null,
   "id": "0c605669",
   "metadata": {},
   "outputs": [],
   "source": [
    "# Loop over the DataFrame and print each row\n",
    "for row in data_frame.itertuples():\n",
    "  print(row)"
   ]
  },
  {
   "cell_type": "code",
   "execution_count": null,
   "id": "063ff3bf",
   "metadata": {},
   "outputs": [],
   "source": [
    "# Iterate with .itertuples()\n",
    "\n",
    "# Basic syntax for itertuples()\n",
    "for row_namedtuple in df.itertuples():\n",
    "    print(row_namedtuple)\n",
    "\n",
    "# Accessing specific columns by index\n",
    "for row_namedtuple in df.itertuples():\n",
    "    print(row_namedtuple.Index)  # Access index\n",
    "    print(row_namedtuple[1])     # Access first column by position\n",
    "    print(row_namedtuple[2])     # Access second column by position\n",
    "\n",
    "# Accessing columns by name (if column names are valid Python identifiers)\n",
    "for row_namedtuple in df.itertuples():\n",
    "    print(row_namedtuple.Team)   # Access 'Team' column by name\n",
    "    print(row_namedtuple.Year)   # Access 'Year' column by name\n",
    "\n",
    "# Unpacking tuples for easier access\n",
    "for index, team, year, wins in df.itertuples():\n",
    "    print(f\"Index: {index}, Team: {team}, Year: {year}, Wins: {wins}\")\n",
    "\n",
    "# Using itertuples() with name parameter\n",
    "for row in df.itertuples(name='TeamData'):\n",
    "    print(row.Team)\n",
    "    print(row.Year)\n",
    "\n",
    "# Using itertuples() without index\n",
    "for row in df.itertuples(index=False):\n",
    "    print(row)  # Only column values, no index"
   ]
  },
  {
   "cell_type": "code",
   "execution_count": null,
   "id": "aa61782a",
   "metadata": {},
   "outputs": [],
   "source": [
    "def cal_run_diff(column1, column2):\n",
    "    run_diff = column1 - column2\n",
    "    return run_diff\n",
    "\n",
    "# pandas alternative to looping using apply()\n",
    "table = table_df.apply(\n",
    "    lambda row: cal_run_diff(row['KW'], row['KA']),\n",
    "    axis=1 # 0 for columns, rows for 1\n",
    ")\n",
    "\n",
    "table['KW'] = table\n",
    "print(table)"
   ]
  },
  {
   "cell_type": "code",
   "execution_count": null,
   "id": "0b3f6b2a",
   "metadata": {},
   "outputs": [],
   "source": [
    "# Optimal Pandas Iterating\n",
    "table['T1'].values - table['T2'].values # Vectorization\n",
    "\n",
    "# Run Differential with arrays\n",
    "run_diff_np = table['col1'].values - table['col2'].values\n",
    "table['new_column'] = run_diff_np"
   ]
  }
 ],
 "metadata": {
  "kernelspec": {
   "display_name": "learnPandas",
   "language": "python",
   "name": "python3"
  },
  "language_info": {
   "codemirror_mode": {
    "name": "ipython",
    "version": 3
   },
   "file_extension": ".py",
   "mimetype": "text/x-python",
   "name": "python",
   "nbconvert_exporter": "python",
   "pygments_lexer": "ipython3",
   "version": "3.13.5"
  }
 },
 "nbformat": 4,
 "nbformat_minor": 5
}
